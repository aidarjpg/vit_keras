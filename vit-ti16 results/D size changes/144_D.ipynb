{
 "cells": [
  {
   "cell_type": "code",
   "execution_count": 1,
   "id": "JP3clKIakEmc",
   "metadata": {
    "id": "JP3clKIakEmc"
   },
   "outputs": [],
   "source": [
    "#!pip install tensorflow_addons"
   ]
  },
  {
   "cell_type": "code",
   "execution_count": 2,
   "id": "0e24354c",
   "metadata": {
    "colab": {
     "base_uri": "https://localhost:8080/"
    },
    "id": "0e24354c",
    "outputId": "72c8d94a-7c81-453b-cba3-cb9454607ee5",
    "scrolled": false
   },
   "outputs": [
    {
     "name": "stderr",
     "output_type": "stream",
     "text": [
      "C:\\Users\\fano\\anaconda3\\envs\\rs\\lib\\site-packages\\tensorflow_addons\\utils\\tfa_eol_msg.py:23: UserWarning: \n",
      "\n",
      "TensorFlow Addons (TFA) has ended development and introduction of new features.\n",
      "TFA has entered a minimal maintenance and release mode until a planned end of life in May 2024.\n",
      "Please modify downstream libraries to take dependencies from other repositories in our TensorFlow community (e.g. Keras, Keras-CV, and Keras-NLP). \n",
      "\n",
      "For more information see: https://github.com/tensorflow/addons/issues/2807 \n",
      "\n",
      "  warnings.warn(\n"
     ]
    }
   ],
   "source": [
    "import tensorflow as tf\n",
    "import tensorflow_addons as tfa\n",
    "from tensorflow import keras\n",
    "import scipy\n",
    "\n",
    "from tensorflow.keras import optimizers\n",
    "\n",
    "from tensorflow.keras.datasets import cifar10\n",
    "from tensorflow.keras.utils import to_categorical\n",
    "from tensorflow.keras.preprocessing.image import ImageDataGenerator\n",
    "from tensorflow.keras.models import Model\n",
    "from tensorflow.keras.callbacks import ReduceLROnPlateau\n",
    "from tensorflow.keras.layers import Input, Flatten, BatchNormalization, Dense\n",
    "from tensorflow.keras.callbacks import ModelCheckpoint\n",
    "\n",
    "from sklearn.model_selection import train_test_split\n",
    "from sklearn.metrics import accuracy_score\n",
    "\n",
    "import numpy as np\n",
    "import matplotlib.pyplot as plt\n",
    "import gc"
   ]
  },
  {
   "cell_type": "code",
   "execution_count": 3,
   "id": "a51a27b9",
   "metadata": {
    "id": "a51a27b9"
   },
   "outputs": [],
   "source": [
    "gpus = tf.config.list_physical_devices('GPU')\n",
    "if gpus:\n",
    "    for gpu in gpus:\n",
    "        tf.config.experimental.set_memory_growth(gpu,True)"
   ]
  },
  {
   "cell_type": "code",
   "execution_count": 4,
   "id": "9d34ead5",
   "metadata": {
    "id": "9d34ead5"
   },
   "outputs": [],
   "source": [
    "seed = 2022\n",
    "np.random.seed(seed)\n",
    "tf.random.set_seed(seed)"
   ]
  },
  {
   "cell_type": "code",
   "execution_count": 5,
   "id": "96e487c1",
   "metadata": {
    "id": "96e487c1"
   },
   "outputs": [],
   "source": [
    "(train_data, train_label), (test_data, test_label) = cifar10.load_data()\n",
    "train_label = to_categorical(train_label)\n",
    "test_label = to_categorical(test_label)\n",
    "train_data = (train_data/255.).astype(\"float32\")\n",
    "test_data = (test_data/255.).astype(\"float32\")"
   ]
  },
  {
   "cell_type": "code",
   "execution_count": 6,
   "id": "417e5ec3",
   "metadata": {
    "id": "417e5ec3"
   },
   "outputs": [],
   "source": [
    "X_train, X_valid, y_train, y_valid = train_test_split(train_data,train_label,random_state=seed,shuffle=True,train_size=0.9)"
   ]
  },
  {
   "cell_type": "code",
   "execution_count": 7,
   "id": "8c80b920",
   "metadata": {
    "id": "8c80b920"
   },
   "outputs": [],
   "source": [
    "\n",
    "batch_size = 32\n",
    "datagen = ImageDataGenerator(rotation_range=15,\n",
    "                             width_shift_range=0.2,\n",
    "                             zoom_range=0.2,\n",
    "                             horizontal_flip=True,\n",
    "                             height_shift_range=0.2,\n",
    "                             shear_range=0.2\n",
    "                            )\n",
    "\n",
    "train_generator = datagen.flow(X_train, y_train, batch_size=batch_size)"
   ]
  },
  {
   "cell_type": "code",
   "execution_count": 8,
   "id": "a5b23ca9",
   "metadata": {
    "id": "a5b23ca9"
   },
   "outputs": [],
   "source": [
    "checkpoint_vit = ModelCheckpoint(r'C:\\Users\\fano\\Desktop\\weights\\vit4_6.h5',\n",
    "    verbose=1,\n",
    "    monitor='val_loss',\n",
    "    save_best_only=True,\n",
    "    mode='auto'\n",
    ")"
   ]
  },
  {
   "cell_type": "code",
   "execution_count": 9,
   "id": "4ac41408",
   "metadata": {
    "id": "4ac41408"
   },
   "outputs": [],
   "source": [
    "class PatchEmbedding(tf.keras.layers.Layer):\n",
    "  def __init__(self , size , num_of_patches , projection_dim):\n",
    "    super().__init__()\n",
    "\n",
    "    self.size=size\n",
    "    self.num_of_patches= num_of_patches + 1\n",
    "    self.projection_dim=projection_dim\n",
    "\n",
    "    self.projection=tf.keras.layers.Dense(projection_dim)\n",
    "\n",
    "    self.clsToken= tf.Variable(tf.keras.initializers.GlorotNormal()(shape=(1 , 1 , projection_dim)) , trainable=True)\n",
    "    self.positionalEmbedding = tf.keras.layers.Embedding(self.num_of_patches , projection_dim)\n",
    "\n",
    "\n",
    "  def call(self, inputs):\n",
    "    patches = tf.image.extract_patches(inputs ,\n",
    "                                       sizes=[1 , self.size , self.size , 1],\n",
    "                                       strides=[1 , self.size , self.size , 1],\n",
    "                                       rates=[1 ,1 ,1 ,1],\n",
    "                                       padding=\"VALID\",)\n",
    "    patches=tf.reshape(patches, (tf.shape(inputs)[0], -1, self.size * self.size *3))\n",
    "    patches= self.projection(patches)\n",
    "\n",
    "    # repeat cls token length of batch size\n",
    "    clsToken = tf.repeat(self.clsToken , tf.shape(inputs)[0] , 0)\n",
    "    patches = tf.concat((clsToken, patches) , axis=1)\n",
    "    # create position number for each patch\n",
    "    positions = tf.range(0 , self.num_of_patches , 1)[tf.newaxis , ...]\n",
    "    positionalEmbedding = self.positionalEmbedding(positions)\n",
    "\n",
    "    #print(positionalEmbedding)\n",
    "    patches= patches + positionalEmbedding\n",
    "    return patches\n"
   ]
  },
  {
   "cell_type": "code",
   "execution_count": 10,
   "id": "a44dbf4a",
   "metadata": {
    "id": "a44dbf4a"
   },
   "outputs": [],
   "source": [
    "class TransformerLayer(tf.keras.layers.Layer):\n",
    "  def __init__(self , d_model , heads , mlp_rate , dropout_rate=0.1):\n",
    "    super().__init__()\n",
    "\n",
    "    self.layernorm_1 = tf.keras.layers.LayerNormalization(epsilon=1e-6)\n",
    "    self.mha= tf.keras.layers.MultiHeadAttention(heads, d_model//heads , dropout=dropout_rate)\n",
    "\n",
    "    self.layernorm_2 = tf.keras.layers.LayerNormalization(epsilon=1e-6)\n",
    "    self.mlp = tf.keras.Sequential([\n",
    "                                    tf.keras.layers.Dense(d_model * mlp_rate , activation=\"gelu\"),\n",
    "                                    tf.keras.layers.Dropout(dropout_rate),\n",
    "                                    tf.keras.layers.Dense(d_model , activation=\"gelu\"),\n",
    "                                    tf.keras.layers.Dropout(dropout_rate)\n",
    "    ])\n",
    "  def call(self , inputs , training=True):\n",
    "    out_1 = self.layernorm_1(inputs)\n",
    "    out_1 = self.mha(out_1 , out_1 ,training=training)\n",
    "    out_1 = inputs + out_1\n",
    "\n",
    "    out_2= self.layernorm_2(out_1)\n",
    "    out_2=self.mlp(out_2 , training=training)\n",
    "    out_2 = out_1 + out_2\n",
    "\n",
    "    return out_2\n"
   ]
  },
  {
   "cell_type": "code",
   "execution_count": 11,
   "id": "aa68b5d3",
   "metadata": {
    "id": "aa68b5d3"
   },
   "outputs": [],
   "source": [
    "class TransformerEncoder(tf.keras.layers.Layer):\n",
    "  def __init__(self , d_model , heads , mlp_rate , num_layers=1 , dropout_rate=0.1):\n",
    "    super().__init__()\n",
    "\n",
    "    self.encoders = [TransformerLayer(d_model , heads , mlp_rate , dropout_rate) for _ in range(num_layers)]\n",
    "\n",
    "  def call(self , inputs , training=True):\n",
    "    x =inputs\n",
    "\n",
    "    for layer in self.encoders:\n",
    "      x = layer(x , training=training)\n",
    "\n",
    "    return x\n"
   ]
  },
  {
   "cell_type": "code",
   "execution_count": 12,
   "id": "021c5050",
   "metadata": {
    "id": "021c5050"
   },
   "outputs": [],
   "source": [
    "class ViT(tf.keras.Model):\n",
    "  def __init__(self , num_classes , patch_size , num_of_patches , d_model , heads , num_layers , mlp_rate , dropout_rate=0.1):\n",
    "    super().__init__()\n",
    "\n",
    "    self.patchEmbedding = PatchEmbedding(patch_size , num_of_patches , d_model)\n",
    "    self.encoder = TransformerEncoder(d_model , heads , mlp_rate  ,num_layers , dropout_rate)\n",
    "\n",
    "    self.prediction = tf.keras.Sequential([\n",
    "                                           tf.keras.layers.Dropout(0.3),\n",
    "                                           tf.keras.layers.Dense(mlp_rate * d_model , activation=\"gelu\"),\n",
    "                                           tf.keras.layers.Dropout(0.2),\n",
    "                                           tf.keras.layers.Dense(num_classes, activation=\"softmax\")\n",
    "\n",
    "\n",
    "  ])\n",
    "  def call(self , inputs ,  training=True):\n",
    "    patches = self.patchEmbedding(inputs)\n",
    "    encoderResult = self.encoder(patches, training=training)\n",
    "\n",
    "    clsResult = encoderResult[: , 0 , :]\n",
    "\n",
    "    prediction = self.prediction(clsResult,\n",
    "                                 training=training)\n",
    "    return prediction\n"
   ]
  },
  {
   "cell_type": "code",
   "execution_count": 13,
   "id": "db0f5e6d",
   "metadata": {
    "id": "db0f5e6d"
   },
   "outputs": [],
   "source": [
    "# def scheduler(epoch, lr):\n",
    "#     if epoch < 10:\n",
    "#         return lr\n",
    "#     else:\n",
    "#         if epoch % 2:\n",
    "#             return lr * tf.math.exp(-0.1)\n",
    "#         else:\n",
    "#             return lr\n",
    "\n",
    "# callback = tf.keras.callbacks.LearningRateScheduler(scheduler)"
   ]
  },
  {
   "cell_type": "code",
   "execution_count": 14,
   "id": "ec4566be",
   "metadata": {
    "id": "ec4566be"
   },
   "outputs": [],
   "source": [
    "def lr_warmup_cosine_decay(global_step,\n",
    "                           warmup_steps,\n",
    "                           hold = 0,\n",
    "                           total_steps=0,\n",
    "                           start_lr=0.0001,\n",
    "                           target_lr=1e-3):\n",
    "    # Cosine decay\n",
    "    learning_rate = 0.5 * target_lr * (1 + np.cos(np.pi * (global_step - warmup_steps - hold) / float(total_steps - warmup_steps - hold)))\n",
    "\n",
    "    # Target LR * progress of warmup (=1 at the final warmup step)\n",
    "    warmup_lr = target_lr * (global_step / warmup_steps)\n",
    "\n",
    "    # Choose between `warmup_lr`, `target_lr` and `learning_rate` based on whether `global_step < warmup_steps` and we're still holding.\n",
    "    # i.e. warm up if we're still warming up and use cosine decayed lr otherwise\n",
    "    if hold > 0:\n",
    "        learning_rate = np.where(global_step > warmup_steps + hold,\n",
    "                                 learning_rate, target_lr)\n",
    "\n",
    "    learning_rate = np.where(global_step < warmup_steps, warmup_lr, learning_rate)\n",
    "    return learning_rate"
   ]
  },
  {
   "cell_type": "code",
   "execution_count": 15,
   "id": "a19d015f",
   "metadata": {
    "id": "a19d015f"
   },
   "outputs": [],
   "source": [
    "from tensorflow.keras import backend as K\n",
    "\n",
    "class WarmupCosineDecay(tf.keras.callbacks.Callback):\n",
    "    def __init__(self, total_steps=0, warmup_steps=0, start_lr=0.0001, target_lr=1e-3, hold=0):\n",
    "\n",
    "        super(WarmupCosineDecay, self).__init__()\n",
    "        self.start_lr = start_lr\n",
    "        self.hold = hold\n",
    "        self.total_steps = total_steps\n",
    "        self.global_step = 1\n",
    "        self.target_lr = target_lr\n",
    "        self.warmup_steps = warmup_steps\n",
    "        self.lrs = []\n",
    "\n",
    "    def on_epoch_end(self, epoch, logs=None):\n",
    "        self.global_step = self.global_step + 1\n",
    "        lr = self.model.optimizer.lr.numpy()\n",
    "        self.lrs.append(lr)\n",
    "\n",
    "    def on_epoch_begin(self, epoch, logs=None):\n",
    "        lr = lr_warmup_cosine_decay(global_step=self.global_step,\n",
    "                                    total_steps=self.total_steps,\n",
    "                                    warmup_steps=self.warmup_steps,\n",
    "                                    start_lr=self.start_lr,\n",
    "                                    target_lr=self.target_lr,\n",
    "                                    hold=self.hold)\n",
    "        print(f\"Learining rate is {lr}\")\n",
    "        K.set_value(self.model.optimizer.lr, lr)"
   ]
  },
  {
   "cell_type": "code",
   "execution_count": 16,
   "id": "c052833a",
   "metadata": {
    "id": "c052833a"
   },
   "outputs": [],
   "source": [
    "# If already batched\n",
    "total_steps = 100\n",
    "# If not batched\n",
    "#total_steps = len(train_set)/config['BATCH_SIZE']*config['EPOCHS']\n",
    "# 5% of the steps\n",
    "warmup_steps = 10\n",
    "\n",
    "callback = WarmupCosineDecay(total_steps=total_steps,\n",
    "                             warmup_steps=warmup_steps,\n",
    "                             hold=int(warmup_steps/2),\n",
    "                             start_lr=0.0001,\n",
    "                             target_lr=0.001)"
   ]
  },
  {
   "cell_type": "code",
   "execution_count": 17,
   "id": "b2f05e6e",
   "metadata": {
    "id": "b2f05e6e"
   },
   "outputs": [],
   "source": [
    "vitClassifier = ViT(num_classes=10, patch_size=16, num_of_patches=196,\n",
    "                d_model=144, heads=3, num_layers=12,\n",
    "                mlp_rate=4,dropout_rate=0.1)"
   ]
  },
  {
   "cell_type": "code",
   "execution_count": 18,
   "id": "ae703059",
   "metadata": {
    "colab": {
     "base_uri": "https://localhost:8080/"
    },
    "id": "ae703059",
    "outputId": "b3139085-ba60-4135-fea9-582d264c48f4"
   },
   "outputs": [
    {
     "data": {
      "text/plain": [
       "(32, 32, 32, 3)"
      ]
     },
     "execution_count": 18,
     "metadata": {},
     "output_type": "execute_result"
    }
   ],
   "source": [
    "next(iter(train_generator))[0].shape"
   ]
  },
  {
   "cell_type": "code",
   "execution_count": 19,
   "id": "7880b86d",
   "metadata": {
    "id": "7880b86d"
   },
   "outputs": [],
   "source": [
    "def build_model():\n",
    "    inputs = Input(shape=(32,32,3))\n",
    "    x = tf.keras.layers.Lambda(lambda image: tf.image.resize(image,(224,224)))(inputs)\n",
    "    y = vitClassifier(x)\n",
    "\n",
    "    return Model(inputs=inputs,outputs=y)\n"
   ]
  },
  {
   "cell_type": "code",
   "execution_count": 20,
   "id": "a981e1a6",
   "metadata": {
    "id": "a981e1a6"
   },
   "outputs": [],
   "source": [
    "vit = build_model()"
   ]
  },
  {
   "cell_type": "code",
   "execution_count": 21,
   "id": "98734364",
   "metadata": {
    "colab": {
     "base_uri": "https://localhost:8080/"
    },
    "id": "98734364",
    "outputId": "268c4647-aace-4ead-b219-fdf8f7c32e20"
   },
   "outputs": [
    {
     "name": "stdout",
     "output_type": "stream",
     "text": [
      "Model: \"model\"\n",
      "_________________________________________________________________\n",
      " Layer (type)                Output Shape              Param #   \n",
      "=================================================================\n",
      " input_1 (InputLayer)        [(None, 32, 32, 3)]       0         \n",
      "                                                                 \n",
      " lambda (Lambda)             (None, 224, 224, 3)       0         \n",
      "                                                                 \n",
      " vi_t (ViT)                  (None, 10)                3236986   \n",
      "                                                                 \n",
      "=================================================================\n",
      "Total params: 3,236,986\n",
      "Trainable params: 3,236,986\n",
      "Non-trainable params: 0\n",
      "_________________________________________________________________\n"
     ]
    },
    {
     "name": "stderr",
     "output_type": "stream",
     "text": [
      "C:\\Users\\fano\\anaconda3\\envs\\rs\\lib\\site-packages\\keras\\optimizers\\optimizer_v2\\adam.py:114: UserWarning: The `lr` argument is deprecated, use `learning_rate` instead.\n",
      "  super().__init__(name, **kwargs)\n"
     ]
    }
   ],
   "source": [
    "vit.summary()\n",
    "vit.compile(\n",
    "    optimizer=tf.keras.optimizers.Adam(lr=0.001),\n",
    "    #optimizer = tf.keras.optimizers.SGD(lr=0.01,momentum=0.9),\n",
    "    loss=tf.keras.losses.CategoricalCrossentropy(),\n",
    "  metrics=[\n",
    "      tf.keras.metrics.CategoricalAccuracy(name=\"accuracy\")\n",
    "  ],\n",
    ")"
   ]
  },
  {
   "cell_type": "code",
   "execution_count": 22,
   "id": "3786ca1b",
   "metadata": {
    "colab": {
     "base_uri": "https://localhost:8080/",
     "height": 416
    },
    "id": "3786ca1b",
    "outputId": "acec0f7c-9233-4590-d4aa-7bc7acd33d81",
    "scrolled": true
   },
   "outputs": [
    {
     "name": "stdout",
     "output_type": "stream",
     "text": [
      "Learining rate is 0.0001\n",
      "Epoch 1/100\n",
      "1407/1407 [==============================] - 224s 151ms/step - loss: 2.0140 - accuracy: 0.2482 - val_loss: 1.7644 - val_accuracy: 0.3428\n",
      "Learining rate is 0.0002\n",
      "Epoch 2/100\n",
      "1407/1407 [==============================] - 216s 153ms/step - loss: 1.7546 - accuracy: 0.3507 - val_loss: 1.5759 - val_accuracy: 0.4256\n",
      "Learining rate is 0.0003\n",
      "Epoch 3/100\n",
      "1407/1407 [==============================] - 218s 155ms/step - loss: 1.6035 - accuracy: 0.4119 - val_loss: 1.3906 - val_accuracy: 0.4974\n",
      "Learining rate is 0.0004\n",
      "Epoch 4/100\n",
      "1407/1407 [==============================] - 218s 155ms/step - loss: 1.5234 - accuracy: 0.4458 - val_loss: 1.3519 - val_accuracy: 0.5034\n",
      "Learining rate is 0.0005\n",
      "Epoch 5/100\n",
      "1407/1407 [==============================] - 214s 152ms/step - loss: 1.4713 - accuracy: 0.4673 - val_loss: 1.3876 - val_accuracy: 0.5126\n",
      "Learining rate is 0.0006\n",
      "Epoch 6/100\n",
      "1407/1407 [==============================] - 215s 152ms/step - loss: 1.4440 - accuracy: 0.4784 - val_loss: 1.3817 - val_accuracy: 0.4960\n",
      "Learining rate is 0.0007\n",
      "Epoch 7/100\n",
      "1407/1407 [==============================] - 214s 152ms/step - loss: 1.4244 - accuracy: 0.4857 - val_loss: 1.3688 - val_accuracy: 0.5054\n",
      "Learining rate is 0.0008\n",
      "Epoch 8/100\n",
      "1407/1407 [==============================] - 213s 151ms/step - loss: 1.4005 - accuracy: 0.4978 - val_loss: 1.2681 - val_accuracy: 0.5456\n",
      "Learining rate is 0.0009000000000000001\n",
      "Epoch 9/100\n",
      "1407/1407 [==============================] - 214s 152ms/step - loss: 1.3930 - accuracy: 0.4998 - val_loss: 1.2742 - val_accuracy: 0.5328\n",
      "Learining rate is 0.001\n",
      "Epoch 10/100\n",
      "1407/1407 [==============================] - 214s 152ms/step - loss: 1.3747 - accuracy: 0.5093 - val_loss: 1.3793 - val_accuracy: 0.5148\n",
      "Learining rate is 0.001\n",
      "Epoch 11/100\n",
      "1407/1407 [==============================] - 213s 151ms/step - loss: 1.3411 - accuracy: 0.5240 - val_loss: 1.2954 - val_accuracy: 0.5540\n",
      "Learining rate is 0.001\n",
      "Epoch 12/100\n",
      "1407/1407 [==============================] - 213s 151ms/step - loss: 1.2967 - accuracy: 0.5431 - val_loss: 1.1068 - val_accuracy: 0.6006\n",
      "Learining rate is 0.001\n",
      "Epoch 13/100\n",
      "1407/1407 [==============================] - 214s 152ms/step - loss: 1.2604 - accuracy: 0.5537 - val_loss: 1.1289 - val_accuracy: 0.5908\n",
      "Learining rate is 0.001\n",
      "Epoch 14/100\n",
      "1407/1407 [==============================] - 214s 152ms/step - loss: 1.2349 - accuracy: 0.5670 - val_loss: 1.0556 - val_accuracy: 0.6206\n",
      "Learining rate is 0.001\n",
      "Epoch 15/100\n",
      "1407/1407 [==============================] - 214s 152ms/step - loss: 1.2039 - accuracy: 0.5776 - val_loss: 1.1097 - val_accuracy: 0.6128\n",
      "Learining rate is 0.0009996585300715115\n",
      "Epoch 16/100\n",
      "1407/1407 [==============================] - 214s 152ms/step - loss: 1.1859 - accuracy: 0.5862 - val_loss: 1.0841 - val_accuracy: 0.6172\n",
      "Learining rate is 0.0009986345866928941\n",
      "Epoch 17/100\n",
      "1407/1407 [==============================] - 213s 151ms/step - loss: 1.1633 - accuracy: 0.5960 - val_loss: 1.0787 - val_accuracy: 0.6388\n",
      "Learining rate is 0.0009969295684476367\n",
      "Epoch 18/100\n",
      "1407/1407 [==============================] - 213s 152ms/step - loss: 1.1415 - accuracy: 0.6016 - val_loss: 1.0238 - val_accuracy: 0.6410\n",
      "Learining rate is 0.000994545804185573\n",
      "Epoch 19/100\n",
      "1407/1407 [==============================] - 214s 152ms/step - loss: 1.1120 - accuracy: 0.6139 - val_loss: 1.0347 - val_accuracy: 0.6466\n",
      "Learining rate is 0.000991486549841951\n",
      "Epoch 20/100\n",
      "1407/1407 [==============================] - 214s 152ms/step - loss: 1.0942 - accuracy: 0.6191 - val_loss: 0.9830 - val_accuracy: 0.6520\n",
      "Learining rate is 0.0009877559839902184\n",
      "Epoch 21/100\n",
      "1407/1407 [==============================] - 215s 153ms/step - loss: 1.0746 - accuracy: 0.6288 - val_loss: 1.0499 - val_accuracy: 0.6464\n",
      "Learining rate is 0.0009833592021345938\n",
      "Epoch 22/100\n",
      "1407/1407 [==============================] - 214s 152ms/step - loss: 1.0730 - accuracy: 0.6281 - val_loss: 1.1499 - val_accuracy: 0.6152\n",
      "Learining rate is 0.0009783022097502204\n",
      "Epoch 23/100\n",
      "1407/1407 [==============================] - 215s 152ms/step - loss: 1.0318 - accuracy: 0.6429 - val_loss: 1.0317 - val_accuracy: 0.6464\n",
      "Learining rate is 0.0009725919140804099\n",
      "Epoch 24/100\n",
      "1407/1407 [==============================] - 215s 152ms/step - loss: 1.0193 - accuracy: 0.6504 - val_loss: 0.9653 - val_accuracy: 0.6586\n",
      "Learining rate is 0.0009662361147021779\n",
      "Epoch 25/100\n",
      "1407/1407 [==============================] - 214s 152ms/step - loss: 1.0036 - accuracy: 0.6549 - val_loss: 0.9003 - val_accuracy: 0.6864\n",
      "Learining rate is 0.0009592434928729616\n",
      "Epoch 26/100\n",
      "1407/1407 [==============================] - 214s 152ms/step - loss: 0.9912 - accuracy: 0.6598 - val_loss: 1.0729 - val_accuracy: 0.6434\n",
      "Learining rate is 0.0009516235996730644\n",
      "Epoch 27/100\n",
      "1407/1407 [==============================] - 214s 152ms/step - loss: 0.9698 - accuracy: 0.6666 - val_loss: 0.9870 - val_accuracy: 0.6624\n",
      "Learining rate is 0.0009433868429600309\n",
      "Epoch 28/100\n",
      "1407/1407 [==============================] - 214s 152ms/step - loss: 0.9615 - accuracy: 0.6696 - val_loss: 0.9122 - val_accuracy: 0.6770\n",
      "Learining rate is 0.0009345444731527642\n",
      "Epoch 29/100\n",
      "1407/1407 [==============================] - 214s 152ms/step - loss: 0.9434 - accuracy: 0.6761 - val_loss: 0.9151 - val_accuracy: 0.6880\n",
      "Learining rate is 0.0009251085678648072\n",
      "Epoch 30/100\n",
      "1407/1407 [==============================] - 214s 152ms/step - loss: 0.9203 - accuracy: 0.6855 - val_loss: 0.8923 - val_accuracy: 0.6980\n",
      "Learining rate is 0.0009150920154077753\n",
      "Epoch 31/100\n",
      "1407/1407 [==============================] - 214s 152ms/step - loss: 0.9107 - accuracy: 0.6887 - val_loss: 0.8472 - val_accuracy: 0.7102\n",
      "Learining rate is 0.0009045084971874737\n",
      "Epoch 32/100\n",
      "1407/1407 [==============================] - 213s 152ms/step - loss: 0.8948 - accuracy: 0.6932 - val_loss: 0.8711 - val_accuracy: 0.7056\n",
      "Learining rate is 0.0008933724690167417\n",
      "Epoch 33/100\n",
      "1407/1407 [==============================] - 213s 151ms/step - loss: 0.8788 - accuracy: 0.6990 - val_loss: 0.8540 - val_accuracy: 0.7052\n",
      "Learining rate is 0.0008816991413705516\n",
      "Epoch 34/100\n",
      "1407/1407 [==============================] - 214s 152ms/step - loss: 0.8633 - accuracy: 0.7064 - val_loss: 0.8813 - val_accuracy: 0.6978\n",
      "Learining rate is 0.0008695044586103295\n",
      "Epoch 35/100\n",
      "1407/1407 [==============================] - 214s 152ms/step - loss: 0.8390 - accuracy: 0.7145 - val_loss: 0.8339 - val_accuracy: 0.7138\n",
      "Learining rate is 0.0008568050772058762\n",
      "Epoch 36/100\n",
      "1407/1407 [==============================] - 215s 153ms/step - loss: 0.8299 - accuracy: 0.7140 - val_loss: 0.8824 - val_accuracy: 0.7022\n",
      "Learining rate is 0.0008436183429846313\n",
      "Epoch 37/100\n",
      "1407/1407 [==============================] - 213s 152ms/step - loss: 0.8166 - accuracy: 0.7212 - val_loss: 0.9404 - val_accuracy: 0.6812\n",
      "Learining rate is 0.0008299622674393614\n",
      "Epoch 38/100\n",
      "1407/1407 [==============================] - 214s 152ms/step - loss: 0.8074 - accuracy: 0.7242 - val_loss: 0.8211 - val_accuracy: 0.7256\n",
      "Learining rate is 0.0008158555031266255\n",
      "Epoch 39/100\n",
      "1407/1407 [==============================] - 214s 152ms/step - loss: 0.7788 - accuracy: 0.7342 - val_loss: 0.7458 - val_accuracy: 0.7422\n",
      "Learining rate is 0.0008013173181896282\n",
      "Epoch 40/100\n",
      "1407/1407 [==============================] - 215s 153ms/step - loss: 0.7640 - accuracy: 0.7399 - val_loss: 0.8094 - val_accuracy: 0.7210\n",
      "Learining rate is 0.0007863675700402526\n",
      "Epoch 41/100\n",
      "1407/1407 [==============================] - 213s 151ms/step - loss: 0.7532 - accuracy: 0.7446 - val_loss: 0.7457 - val_accuracy: 0.7484\n",
      "Learining rate is 0.0007710266782362247\n",
      "Epoch 42/100\n",
      "1407/1407 [==============================] - 214s 152ms/step - loss: 0.7366 - accuracy: 0.7490 - val_loss: 0.7379 - val_accuracy: 0.7518\n",
      "Learining rate is 0.0007553155965904535\n",
      "Epoch 43/100\n",
      "1407/1407 [==============================] - 213s 151ms/step - loss: 0.7250 - accuracy: 0.7532 - val_loss: 0.7619 - val_accuracy: 0.7426\n",
      "Learining rate is 0.0007392557845506433\n",
      "Epoch 44/100\n",
      "1407/1407 [==============================] - 214s 152ms/step - loss: 0.7082 - accuracy: 0.7596 - val_loss: 0.7349 - val_accuracy: 0.7540\n",
      "Learining rate is 0.0007228691778882692\n",
      "Epoch 45/100\n",
      "1407/1407 [==============================] - 215s 153ms/step - loss: 0.7027 - accuracy: 0.7627 - val_loss: 0.7353 - val_accuracy: 0.7454\n",
      "Learining rate is 0.0007061781587369518\n",
      "Epoch 46/100\n",
      "1407/1407 [==============================] - 214s 152ms/step - loss: 0.6864 - accuracy: 0.7681 - val_loss: 0.7408 - val_accuracy: 0.7604\n",
      "Learining rate is 0.0006892055250211552\n",
      "Epoch 47/100\n",
      "1407/1407 [==============================] - 214s 152ms/step - loss: 0.6683 - accuracy: 0.7745 - val_loss: 0.7783 - val_accuracy: 0.7402\n",
      "Learining rate is 0.0006719744593169641\n",
      "Epoch 48/100\n",
      "1407/1407 [==============================] - 215s 153ms/step - loss: 0.6571 - accuracy: 0.7758 - val_loss: 0.7141 - val_accuracy: 0.7586\n",
      "Learining rate is 0.0006545084971874737\n",
      "Epoch 49/100\n",
      "1407/1407 [==============================] - 214s 152ms/step - loss: 0.6356 - accuracy: 0.7846 - val_loss: 0.7067 - val_accuracy: 0.7650\n",
      "Learining rate is 0.0006368314950360416\n",
      "Epoch 50/100\n",
      "1407/1407 [==============================] - 213s 152ms/step - loss: 0.6534 - accuracy: 0.7783 - val_loss: 0.6771 - val_accuracy: 0.7748\n",
      "Learining rate is 0.0006189675975213093\n",
      "Epoch 51/100\n",
      "1407/1407 [==============================] - 214s 152ms/step - loss: 0.5986 - accuracy: 0.7964 - val_loss: 0.7089 - val_accuracy: 0.7686\n",
      "Learining rate is 0.0006009412045785051\n",
      "Epoch 52/100\n",
      "1407/1407 [==============================] - 214s 152ms/step - loss: 0.5894 - accuracy: 0.8012 - val_loss: 0.7273 - val_accuracy: 0.7656\n",
      "Learining rate is 0.000582776938092065\n",
      "Epoch 53/100\n",
      "1407/1407 [==============================] - 213s 152ms/step - loss: 0.5796 - accuracy: 0.8018 - val_loss: 0.6994 - val_accuracy: 0.7716\n",
      "Learining rate is 0.0005644996082651017\n",
      "Epoch 54/100\n",
      "1407/1407 [==============================] - 213s 151ms/step - loss: 0.5686 - accuracy: 0.8082 - val_loss: 0.6992 - val_accuracy: 0.7756\n",
      "Learining rate is 0.000546134179731651\n",
      "Epoch 55/100\n",
      "1407/1407 [==============================] - 214s 152ms/step - loss: 0.5566 - accuracy: 0.8117 - val_loss: 0.7340 - val_accuracy: 0.7678\n",
      "Learining rate is 0.000527705737457985\n",
      "Epoch 56/100\n",
      "1407/1407 [==============================] - 215s 153ms/step - loss: 0.5413 - accuracy: 0.8147 - val_loss: 0.7027 - val_accuracy: 0.7708\n",
      "Learining rate is 0.000509239452479565\n",
      "Epoch 57/100\n",
      "1407/1407 [==============================] - 214s 152ms/step - loss: 0.5309 - accuracy: 0.8181 - val_loss: 0.7086 - val_accuracy: 0.7740\n",
      "Learining rate is 0.0004907605475204352\n",
      "Epoch 58/100\n",
      "1407/1407 [==============================] - 215s 153ms/step - loss: 0.5257 - accuracy: 0.8228 - val_loss: 0.7029 - val_accuracy: 0.7822\n",
      "Learining rate is 0.00047229426254201515\n",
      "Epoch 59/100\n",
      "1407/1407 [==============================] - 214s 152ms/step - loss: 0.5098 - accuracy: 0.8285 - val_loss: 0.6841 - val_accuracy: 0.7782\n",
      "Learining rate is 0.00045386582026834903\n",
      "Epoch 60/100\n",
      "1407/1407 [==============================] - 214s 152ms/step - loss: 0.4903 - accuracy: 0.8344 - val_loss: 0.7246 - val_accuracy: 0.7742\n",
      "Learining rate is 0.0004355003917348985\n",
      "Epoch 61/100\n",
      "1407/1407 [==============================] - 214s 152ms/step - loss: 0.4817 - accuracy: 0.8365 - val_loss: 0.6611 - val_accuracy: 0.7920\n",
      "Learining rate is 0.000417223061907935\n",
      "Epoch 62/100\n",
      "1407/1407 [==============================] - 214s 152ms/step - loss: 0.4628 - accuracy: 0.8435 - val_loss: 0.6560 - val_accuracy: 0.7894\n",
      "Learining rate is 0.0003990587954214949\n",
      "Epoch 63/100\n",
      "1407/1407 [==============================] - 213s 151ms/step - loss: 0.4554 - accuracy: 0.8446 - val_loss: 0.7099 - val_accuracy: 0.7870\n",
      "Learining rate is 0.00038103240247869074\n",
      "Epoch 64/100\n",
      "1407/1407 [==============================] - 213s 152ms/step - loss: 0.4410 - accuracy: 0.8510 - val_loss: 0.7361 - val_accuracy: 0.7752\n",
      "Learining rate is 0.0003631685049639586\n",
      "Epoch 65/100\n",
      "1407/1407 [==============================] - 213s 152ms/step - loss: 0.4309 - accuracy: 0.8556 - val_loss: 0.7090 - val_accuracy: 0.7878\n",
      "Learining rate is 0.00034549150281252633\n",
      "Epoch 66/100\n",
      "1407/1407 [==============================] - 214s 152ms/step - loss: 0.4126 - accuracy: 0.8591 - val_loss: 0.7499 - val_accuracy: 0.7766\n",
      "Learining rate is 0.0003280255406830359\n",
      "Epoch 67/100\n",
      "1407/1407 [==============================] - 213s 152ms/step - loss: 0.4070 - accuracy: 0.8635 - val_loss: 0.6954 - val_accuracy: 0.7858\n",
      "Learining rate is 0.00031079447497884486\n",
      "Epoch 68/100\n",
      "1407/1407 [==============================] - 214s 152ms/step - loss: 0.3845 - accuracy: 0.8699 - val_loss: 0.7444 - val_accuracy: 0.7814\n",
      "Learining rate is 0.00029382184126304836\n",
      "Epoch 69/100\n",
      "1407/1407 [==============================] - 213s 151ms/step - loss: 0.3835 - accuracy: 0.8708 - val_loss: 0.7332 - val_accuracy: 0.7850\n",
      "Learining rate is 0.0002771308221117309\n",
      "Epoch 70/100\n",
      "1407/1407 [==============================] - 213s 151ms/step - loss: 0.3675 - accuracy: 0.8743 - val_loss: 0.7386 - val_accuracy: 0.7838\n",
      "Learining rate is 0.0002607442154493568\n",
      "Epoch 71/100\n",
      "1407/1407 [==============================] - 213s 151ms/step - loss: 0.3625 - accuracy: 0.8786 - val_loss: 0.7194 - val_accuracy: 0.7880\n",
      "Learining rate is 0.0002446844034095466\n",
      "Epoch 72/100\n",
      "1407/1407 [==============================] - 213s 151ms/step - loss: 0.3448 - accuracy: 0.8831 - val_loss: 0.7054 - val_accuracy: 0.7916\n",
      "Learining rate is 0.00022897332176377528\n",
      "Epoch 73/100\n",
      "1407/1407 [==============================] - 214s 152ms/step - loss: 0.3366 - accuracy: 0.8868 - val_loss: 0.7766 - val_accuracy: 0.7806\n",
      "Learining rate is 0.00021363242995974742\n",
      "Epoch 74/100\n",
      "1407/1407 [==============================] - 214s 152ms/step - loss: 0.3275 - accuracy: 0.8889 - val_loss: 0.7253 - val_accuracy: 0.7944\n",
      "Learining rate is 0.00019868268181037185\n",
      "Epoch 75/100\n",
      "1407/1407 [==============================] - 215s 153ms/step - loss: 0.3130 - accuracy: 0.8945 - val_loss: 0.7251 - val_accuracy: 0.7968\n",
      "Learining rate is 0.00018414449687337466\n",
      "Epoch 76/100\n",
      "1407/1407 [==============================] - 213s 152ms/step - loss: 0.3054 - accuracy: 0.8970 - val_loss: 0.7773 - val_accuracy: 0.7924\n",
      "Learining rate is 0.0001700377325606388\n",
      "Epoch 77/100\n",
      "1407/1407 [==============================] - 213s 152ms/step - loss: 0.3024 - accuracy: 0.8980 - val_loss: 0.7549 - val_accuracy: 0.7934\n",
      "Learining rate is 0.00015638165701536866\n",
      "Epoch 78/100\n",
      "1407/1407 [==============================] - 214s 152ms/step - loss: 0.2902 - accuracy: 0.9034 - val_loss: 0.7677 - val_accuracy: 0.7880\n",
      "Learining rate is 0.00014319492279412388\n",
      "Epoch 79/100\n",
      "1407/1407 [==============================] - 213s 152ms/step - loss: 0.2860 - accuracy: 0.9042 - val_loss: 0.7506 - val_accuracy: 0.8012\n",
      "Learining rate is 0.0001304955413896705\n",
      "Epoch 80/100\n",
      "1407/1407 [==============================] - 214s 152ms/step - loss: 0.2682 - accuracy: 0.9090 - val_loss: 0.7457 - val_accuracy: 0.7986\n",
      "Learining rate is 0.00011830085862944851\n",
      "Epoch 81/100\n",
      "1407/1407 [==============================] - 214s 152ms/step - loss: 0.2631 - accuracy: 0.9113 - val_loss: 0.7709 - val_accuracy: 0.7968\n",
      "Learining rate is 0.00010662753098325839\n",
      "Epoch 82/100\n",
      "1407/1407 [==============================] - 214s 152ms/step - loss: 0.2634 - accuracy: 0.9125 - val_loss: 0.7454 - val_accuracy: 0.7984\n",
      "Learining rate is 9.549150281252633e-05\n",
      "Epoch 83/100\n",
      "1407/1407 [==============================] - 214s 152ms/step - loss: 0.2514 - accuracy: 0.9155 - val_loss: 0.7817 - val_accuracy: 0.7978\n",
      "Learining rate is 8.490798459222476e-05\n",
      "Epoch 84/100\n",
      "1407/1407 [==============================] - 214s 152ms/step - loss: 0.2484 - accuracy: 0.9163 - val_loss: 0.8238 - val_accuracy: 0.7876\n",
      "Learining rate is 7.489143213519301e-05\n",
      "Epoch 85/100\n",
      "1407/1407 [==============================] - 213s 152ms/step - loss: 0.2439 - accuracy: 0.9194 - val_loss: 0.7789 - val_accuracy: 0.7974\n",
      "Learining rate is 6.545552684723583e-05\n",
      "Epoch 86/100\n",
      "1407/1407 [==============================] - 214s 152ms/step - loss: 0.2333 - accuracy: 0.9217 - val_loss: 0.7990 - val_accuracy: 0.8000\n",
      "Learining rate is 5.6613157039969057e-05\n",
      "Epoch 87/100\n",
      "1407/1407 [==============================] - 214s 152ms/step - loss: 0.2292 - accuracy: 0.9240 - val_loss: 0.7833 - val_accuracy: 0.8030\n",
      "Learining rate is 4.8376400326935575e-05\n",
      "Epoch 88/100\n",
      "1407/1407 [==============================] - 214s 152ms/step - loss: 0.2281 - accuracy: 0.9234 - val_loss: 0.7952 - val_accuracy: 0.8038\n",
      "Learining rate is 4.075650712703849e-05\n",
      "Epoch 89/100\n",
      "1407/1407 [==============================] - 213s 151ms/step - loss: 0.2214 - accuracy: 0.9261 - val_loss: 0.8117 - val_accuracy: 0.8030\n",
      "Learining rate is 3.376388529782209e-05\n",
      "Epoch 90/100\n",
      "1407/1407 [==============================] - 214s 152ms/step - loss: 0.2201 - accuracy: 0.9250 - val_loss: 0.7982 - val_accuracy: 0.8006\n",
      "Learining rate is 2.7408085919590266e-05\n",
      "Epoch 91/100\n",
      "1407/1407 [==============================] - 213s 152ms/step - loss: 0.2160 - accuracy: 0.9273 - val_loss: 0.8051 - val_accuracy: 0.8028\n",
      "Learining rate is 2.1697790249779635e-05\n",
      "Epoch 92/100\n",
      "1407/1407 [==============================] - 214s 152ms/step - loss: 0.2115 - accuracy: 0.9299 - val_loss: 0.8111 - val_accuracy: 0.8022\n",
      "Learining rate is 1.6640797865406288e-05\n",
      "Epoch 93/100\n",
      "1407/1407 [==============================] - 215s 152ms/step - loss: 0.2089 - accuracy: 0.9296 - val_loss: 0.8019 - val_accuracy: 0.8024\n",
      "Learining rate is 1.22440160097817e-05\n",
      "Epoch 94/100\n",
      "1407/1407 [==============================] - 215s 153ms/step - loss: 0.2099 - accuracy: 0.9279 - val_loss: 0.8126 - val_accuracy: 0.8010\n",
      "Learining rate is 8.513450158049108e-06\n",
      "Epoch 95/100\n",
      "1407/1407 [==============================] - 213s 152ms/step - loss: 0.2078 - accuracy: 0.9306 - val_loss: 0.8116 - val_accuracy: 0.8004\n",
      "Learining rate is 5.454195814427021e-06\n",
      "Epoch 96/100\n",
      "1407/1407 [==============================] - 213s 152ms/step - loss: 0.2045 - accuracy: 0.9316 - val_loss: 0.8092 - val_accuracy: 0.8026\n",
      "Learining rate is 3.0704315523631954e-06\n",
      "Epoch 97/100\n",
      "1407/1407 [==============================] - 213s 152ms/step - loss: 0.2079 - accuracy: 0.9297 - val_loss: 0.8154 - val_accuracy: 0.8000\n",
      "Learining rate is 1.3654133071059894e-06\n",
      "Epoch 98/100\n",
      "1407/1407 [==============================] - 213s 152ms/step - loss: 0.2047 - accuracy: 0.9318 - val_loss: 0.8148 - val_accuracy: 0.8000\n",
      "Learining rate is 3.4146992848854695e-07\n",
      "Epoch 99/100\n",
      "1407/1407 [==============================] - 214s 152ms/step - loss: 0.2065 - accuracy: 0.9308 - val_loss: 0.8145 - val_accuracy: 0.8000\n",
      "Learining rate is 0.0\n",
      "Epoch 100/100\n",
      "1407/1407 [==============================] - 214s 152ms/step - loss: 0.2081 - accuracy: 0.9312 - val_loss: 0.8145 - val_accuracy: 0.8000\n"
     ]
    }
   ],
   "source": [
    "history = vit.fit(train_generator,\n",
    "                    epochs=100,\n",
    "                    validation_data=(X_valid, y_valid),\n",
    "                    callbacks=[callback]\n",
    "                   )\n",
    "#print(\"\\nTest Accuracy: \", accuracy_score(np.argmax(test_label, axis=1), np.argmax(model.predict(test_data), axis=1)))"
   ]
  },
  {
   "cell_type": "code",
   "execution_count": 23,
   "id": "0f29eb0b",
   "metadata": {
    "id": "0f29eb0b"
   },
   "outputs": [],
   "source": [
    "# save the model !!!"
   ]
  },
  {
   "cell_type": "code",
   "execution_count": 24,
   "id": "b47b9d54",
   "metadata": {
    "colab": {
     "base_uri": "https://localhost:8080/",
     "height": 927
    },
    "id": "b47b9d54",
    "outputId": "711d9d05-84c8-495c-814c-793910839cb6",
    "scrolled": true
   },
   "outputs": [
    {
     "data": {
      "image/png": "[encoded data removed]",
      "text/plain": [
       "<Figure size 640x480 with 1 Axes>"
      ]
     },
     "metadata": {},
     "output_type": "display_data"
    },
    {
     "data": {
      "image/png": "[encoded data removed]",
      "text/plain": [
       "<Figure size 640x480 with 1 Axes>"
      ]
     },
     "metadata": {},
     "output_type": "display_data"
    }
   ],
   "source": [
    "# summarize history for accuracy\n",
    "plt.plot(history.history['accuracy'])\n",
    "plt.plot(history.history['val_accuracy'])\n",
    "plt.title('model accuracy')\n",
    "plt.ylabel('accuracy')\n",
    "plt.xlabel('epoch')\n",
    "plt.legend(['train', 'test'], loc='upper left')\n",
    "plt.show()\n",
    "# summarize history for loss\n",
    "plt.plot(history.history['loss'])\n",
    "plt.plot(history.history['val_loss'])\n",
    "plt.title('model loss')\n",
    "plt.ylabel('loss')\n",
    "plt.xlabel('epoch')\n",
    "plt.legend(['train', 'test'], loc='upper left')\n",
    "plt.show()"
   ]
  },
  {
   "cell_type": "code",
   "execution_count": 25,
   "id": "e40f373a",
   "metadata": {
    "colab": {
     "base_uri": "https://localhost:8080/"
    },
    "id": "e40f373a",
    "outputId": "92a0007d-148d-4d7c-eb05-0cb52f17991c"
   },
   "outputs": [
    {
     "name": "stdout",
     "output_type": "stream",
     "text": [
      "313/313 [==============================] - 16s 51ms/step - loss: 0.8339 - accuracy: 0.7971\n",
      "test loss, test acc: [0.8338936567306519, 0.7971000075340271]\n"
     ]
    }
   ],
   "source": [
    "results = vit.evaluate(test_data,test_label, batch_size=32, verbose=1)\n",
    "print(\"test loss, test acc:\", results)"
   ]
  },
  {
   "cell_type": "code",
   "execution_count": null,
   "id": "dda5569a",
   "metadata": {
    "id": "dda5569a"
   },
   "outputs": [],
   "source": []
  }
 ],
 "metadata": {
  "accelerator": "GPU",
  "colab": {
   "gpuType": "T4",
   "provenance": []
  },
  "kernelspec": {
   "display_name": "Python 3 (ipykernel)",
   "language": "python",
   "name": "python3"
  },
  "language_info": {
   "codemirror_mode": {
    "name": "ipython",
    "version": 3
   },
   "file_extension": ".py",
   "mimetype": "text/x-python",
   "name": "python",
   "nbconvert_exporter": "python",
   "pygments_lexer": "ipython3",
   "version": "3.9.16"
  }
 },
 "nbformat": 4,
 "nbformat_minor": 5
}
